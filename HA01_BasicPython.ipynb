{
  "nbformat": 4,
  "nbformat_minor": 0,
  "metadata": {
    "kernelspec": {
      "display_name": "Python 3",
      "language": "python",
      "name": "python3"
    },
    "language_info": {
      "codemirror_mode": {
        "name": "ipython",
        "version": 3
      },
      "file_extension": ".py",
      "mimetype": "text/x-python",
      "name": "python",
      "nbconvert_exporter": "python",
      "pygments_lexer": "ipython3",
      "version": "3.6.2"
    },
    "colab": {
      "name": "Copia de IA5008 Assignment 1",
      "provenance": [],
      "collapsed_sections": []
    }
  },
  "cells": [
    {
      "cell_type": "code",
      "metadata": {
        "id": "yexw4WjqU2p2"
      },
      "source": [
        "import pytest"
      ],
      "execution_count": 1,
      "outputs": []
    },
    {
      "cell_type": "markdown",
      "metadata": {
        "id": "2SCP6TX_LMLI"
      },
      "source": [
        "# Introduction to Python: Exercises\n"
      ]
    },
    {
      "cell_type": "markdown",
      "metadata": {
        "id": "oUkXAYY9LMLI"
      },
      "source": [
        "**What is 5 to the power of 7?**"
      ]
    },
    {
      "cell_type": "code",
      "metadata": {
        "colab": {
          "base_uri": "https://localhost:8080/"
        },
        "id": "rhKQDFbBXqRQ",
        "outputId": "55919db3-653c-4288-dfea-7ac3350b6e43"
      },
      "source": [
        "%%file pow_exercise.py\r\n",
        "\r\n",
        "def pow_5_7():\r\n",
        "  # Include your code in the next line\r\n",
        "  return 5**7\r\n"
      ],
      "execution_count": 2,
      "outputs": [
        {
          "output_type": "stream",
          "text": [
            "Writing pow_exercise.py\n"
          ],
          "name": "stdout"
        }
      ]
    },
    {
      "cell_type": "markdown",
      "metadata": {
        "id": "PAEGwYYILMLK"
      },
      "source": [
        "**Split this string:**\n",
        "\n",
        "    s = \"Hi there Migue!\"\n",
        "    \n",
        "**into a list.**"
      ]
    },
    {
      "cell_type": "code",
      "metadata": {
        "id": "1jPm56kZLMLL",
        "colab": {
          "base_uri": "https://localhost:8080/"
        },
        "outputId": "1b0333ca-456b-49e7-d597-539a5c2f15c0"
      },
      "source": [
        "%%file split_string_exercise.py\r\n",
        "\r\n",
        "def split_string():\r\n",
        "  s = \"Hi there Migue!\"\r\n",
        "  # Include your code in the next line\r\n",
        "  return s.split()\r\n",
        "  "
      ],
      "execution_count": 3,
      "outputs": [
        {
          "output_type": "stream",
          "text": [
            "Writing split_string_exercise.py\n"
          ],
          "name": "stdout"
        }
      ]
    },
    {
      "cell_type": "markdown",
      "metadata": {
        "id": "_OjWzukiLMLL"
      },
      "source": [
        "**Given the variables:**\n",
        "\n",
        "    planet = \"Earth\"\n",
        "    diameter = 12742\n",
        "\n",
        "**Use .format() to print the following string:**\n",
        "\n",
        "    The diameter of Earth is 12742 kilometers."
      ]
    },
    {
      "cell_type": "code",
      "metadata": {
        "id": "YolP-Ay5LMLM",
        "colab": {
          "base_uri": "https://localhost:8080/"
        },
        "outputId": "9db55d0d-f72a-4eec-d3aa-245fba477512"
      },
      "source": [
        "%%file format_Earth_diameter_exercise.py\n",
        "\n",
        "def format_Earth_diameter():\n",
        "  planet = \"Earth\"\n",
        "  diameter = 12742\n",
        "  # Include your code in the next line\n",
        "  return ('The diameter of {0} is {1} kilometers.'.format(planet,diameter))\n"
      ],
      "execution_count": 23,
      "outputs": [
        {
          "output_type": "stream",
          "text": [
            "Overwriting format_Earth_diameter_exercise.py\n"
          ],
          "name": "stdout"
        }
      ]
    },
    {
      "cell_type": "markdown",
      "metadata": {
        "id": "6d2_oaeGLMLM"
      },
      "source": [
        "**Given this nested list, use indexing to grab the word \"hello\"**"
      ]
    },
    {
      "cell_type": "code",
      "metadata": {
        "id": "BRvczVB8LMLN",
        "colab": {
          "base_uri": "https://localhost:8080/"
        },
        "outputId": "6403dbab-d5a7-4545-f904-21864753af3d"
      },
      "source": [
        "%%file get_value_nested_list_exercise.py\r\n",
        "\r\n",
        "def get_value_nested_list():\r\n",
        "  lst = [1,4.7,[9,4],[5,[100,200,['hello']],23,11],1,7]\r\n",
        "  # Include your code in the next line\r\n",
        "  return lst[3][1][2][0]\r\n"
      ],
      "execution_count": 5,
      "outputs": [
        {
          "output_type": "stream",
          "text": [
            "Writing get_value_nested_list_exercise.py\n"
          ],
          "name": "stdout"
        }
      ]
    },
    {
      "cell_type": "markdown",
      "metadata": {
        "id": "5AxOrCTxLMLN"
      },
      "source": [
        "**Given this nested dictionary, get the word \"Network\".**"
      ]
    },
    {
      "cell_type": "code",
      "metadata": {
        "id": "LJzm88uHLMLN",
        "colab": {
          "base_uri": "https://localhost:8080/"
        },
        "outputId": "7984c1dd-198c-4ce3-e216-afc226a7e2a6"
      },
      "source": [
        "%%file get_value_nested_dict_exercise.py\r\n",
        "\r\n",
        "def get_value_nested_dict():\r\n",
        "  dict = {'k1':[1,2,3,{'tricky':['oh','man','inception',{'target':[1,2,3,'Network']}]}]}\r\n",
        "  # Include your code in the next line\r\n",
        "  return dict['k1'][3]['tricky'][3]['target'][3]"
      ],
      "execution_count": 6,
      "outputs": [
        {
          "output_type": "stream",
          "text": [
            "Writing get_value_nested_dict_exercise.py\n"
          ],
          "name": "stdout"
        }
      ]
    },
    {
      "cell_type": "markdown",
      "metadata": {
        "id": "khfVoHf6LMLO"
      },
      "source": [
        "**Create a function named get_domain, that receives a parameter with an email address, and returns the  domain from a string in the form:**\n",
        "\n",
        "    user@domain.com\n",
        "    \n",
        "**So for example, passing \"user@domain.com\" the function returns: domain.com**"
      ]
    },
    {
      "cell_type": "code",
      "metadata": {
        "collapsed": true,
        "id": "T5d0ZrCELMLP",
        "colab": {
          "base_uri": "https://localhost:8080/"
        },
        "outputId": "ceef1d85-deda-4b38-858d-8625b47ca20b"
      },
      "source": [
        "%%file get_domain_exercise.py\r\n",
        "\r\n",
        "# Include your code in the next line\r\n",
        "def get_domain(email):\r\n",
        "  return email.split('@')[1]\r\n"
      ],
      "execution_count": 7,
      "outputs": [
        {
          "output_type": "stream",
          "text": [
            "Writing get_domain_exercise.py\n"
          ],
          "name": "stdout"
        }
      ]
    },
    {
      "cell_type": "markdown",
      "metadata": {
        "id": "67RMoJ4HLMLP"
      },
      "source": [
        "**Create a function contains_word that recives the parameters str and sentence, returns True if sentence contains a word with the value of str; otherwise, the function returns False. Examples:**\r\n",
        "\r\n",
        "\r\n",
        "\r\n",
        "```\r\n",
        "contains_word('compute', 'This is my computer') == False\r\n",
        "contains_word('This', 'This is my computer') == True\r\n",
        "```\r\n",
        "\r\n"
      ]
    },
    {
      "cell_type": "code",
      "metadata": {
        "collapsed": true,
        "id": "VLNJY0AoLMLP",
        "colab": {
          "base_uri": "https://localhost:8080/"
        },
        "outputId": "0b5319da-0686-4a6a-d55b-b539ba38293d"
      },
      "source": [
        "%%file contains_word_exercise.py\r\n",
        "\r\n",
        "# Include your code in the next line\r\n",
        "def contains_word(word, sentence):\r\n",
        "    lst = sentence.split()\r\n",
        "    return word in lst\r\n"
      ],
      "execution_count": 8,
      "outputs": [
        {
          "output_type": "stream",
          "text": [
            "Writing contains_word_exercise.py\n"
          ],
          "name": "stdout"
        }
      ]
    },
    {
      "cell_type": "markdown",
      "metadata": {
        "id": "vhpGExoPLMLQ"
      },
      "source": [
        "** Create a function count_word_occurrence that receives the parameters w and sentence, and counts the number of times the word containing the value of w occurs in a string. Example:**\r\n",
        "\r\n",
        "\r\n",
        "```\r\n",
        "count_word_occurrence('compute', 'This computer computes faster')==0\r\n",
        "count_word_occurrence('computer', 'This computer is faster than that computer')==2\r\n",
        "```\r\n",
        "\r\n"
      ]
    },
    {
      "cell_type": "code",
      "metadata": {
        "id": "XwSiQQ0kLMLQ",
        "colab": {
          "base_uri": "https://localhost:8080/"
        },
        "outputId": "4a373829-924d-4183-de3d-04ed69d7cec6"
      },
      "source": [
        "%%file count_word_occurrence_exercise.py\r\n",
        "\r\n",
        "# Include your code in the next line\r\n",
        "def count_word_occurrence(word, sentence):\r\n",
        "    lst = sentence.split()\r\n",
        "    count = 0\r\n",
        "    for elem in lst:\r\n",
        "        if elem == word:\r\n",
        "            count += 1\r\n",
        "    return count\r\n"
      ],
      "execution_count": 9,
      "outputs": [
        {
          "output_type": "stream",
          "text": [
            "Writing count_word_occurrence_exercise.py\n"
          ],
          "name": "stdout"
        }
      ]
    },
    {
      "cell_type": "markdown",
      "metadata": {
        "id": "DKIawf6sLMLQ"
      },
      "source": [
        "**Creat a function remove_words that receives a parameter lst and uses lambda expressions and the filter() function to select words from a list that don't start with the letter 's'. For example:**\n",
        "\n",
        "\n",
        "\n",
        "```\n",
        "remove_words(['soup','dog','salad','cat','great'])\n",
        "```\n",
        "\n",
        "returns:\n",
        "\n",
        "`    ['dog', 'cat', 'great']`"
      ]
    },
    {
      "cell_type": "code",
      "metadata": {
        "id": "bQZkAbllLMLR",
        "colab": {
          "base_uri": "https://localhost:8080/"
        },
        "outputId": "946a7f95-7d14-4917-d785-a1520d61cc75"
      },
      "source": [
        "%%file remove_words_exercise.py\r\n",
        "\r\n",
        "# Include your code in the next line\r\n",
        "def remove_words(lst):\r\n",
        "    return list(filter(lambda x: x[0] != 's', lst))\r\n",
        "\r\n"
      ],
      "execution_count": 21,
      "outputs": [
        {
          "output_type": "stream",
          "text": [
            "Overwriting remove_words_exercise.py\n"
          ],
          "name": "stdout"
        }
      ]
    },
    {
      "cell_type": "markdown",
      "metadata": {
        "id": "e5qg_HxIBZ6F"
      },
      "source": [
        "# Numpy Arrays: Exercises "
      ]
    },
    {
      "cell_type": "code",
      "metadata": {
        "collapsed": true,
        "id": "TehxCKbLAfSN"
      },
      "source": [
        "import numpy as np"
      ],
      "execution_count": 11,
      "outputs": []
    },
    {
      "cell_type": "markdown",
      "metadata": {
        "id": "pdjtST83AfSN"
      },
      "source": [
        "**Create a function np_zeros that receives a parameter length a return a numpy array of length zeros**\r\n",
        "```\r\n",
        "np_zeros(10)\r\n",
        "```\r\n",
        "returns\r\n",
        "```\r\n",
        "array([ 0.,  0.,  0.,  0.,  0.,  0.,  0.,  0.,  0.,  0.])\r\n",
        "```"
      ]
    },
    {
      "cell_type": "code",
      "metadata": {
        "id": "Z5sVXkuDAfSN",
        "colab": {
          "base_uri": "https://localhost:8080/"
        },
        "outputId": "3a4cff73-4ea0-425d-ca9b-cf83d6bd8fa9"
      },
      "source": [
        "%%file np_zeros_exercise.py\r\n",
        "import numpy as np\r\n",
        "\r\n",
        "# Include your code in the next line\r\n",
        "def np_zeros(l):\r\n",
        "    return np.zeros(l)"
      ],
      "execution_count": 12,
      "outputs": [
        {
          "output_type": "stream",
          "text": [
            "Writing np_zeros_exercise.py\n"
          ],
          "name": "stdout"
        }
      ]
    },
    {
      "cell_type": "markdown",
      "metadata": {
        "id": "A3ns2cixzXvO"
      },
      "source": [
        "**Create a function np_ones that receives a parameter length a return a numpy array of length ones. Example**\r\n",
        "\r\n",
        "```\r\n",
        "np_ones(10)\r\n",
        "```\r\n",
        "returns\r\n",
        "```\r\n",
        "array([ 1.,  1.,  1.,  1.,  1.,  1.,  1.,  1.,  1.,  1.])\r\n",
        "```"
      ]
    },
    {
      "cell_type": "code",
      "metadata": {
        "colab": {
          "base_uri": "https://localhost:8080/"
        },
        "id": "vcn0rdMjzfdA",
        "outputId": "337538a9-b5f9-402c-acc7-acafc32673a6"
      },
      "source": [
        "%%file np_ones_exercise.py\r\n",
        "import numpy as np\r\n",
        "\r\n",
        "# Include your code in the next line\r\n",
        "def np_ones(l):\r\n",
        "    return np.ones(l)\r\n",
        "\r\n",
        "np_ones(10)"
      ],
      "execution_count": 13,
      "outputs": [
        {
          "output_type": "stream",
          "text": [
            "Writing np_ones_exercise.py\n"
          ],
          "name": "stdout"
        }
      ]
    },
    {
      "cell_type": "markdown",
      "metadata": {
        "id": "2XNLWUht1KoP"
      },
      "source": [
        "**Create a function np_ns that receives a parameter length and a parameter n, and returns a numpy array of length n. Example:**\r\n",
        "```\r\n",
        "np_ns(10, 3)\r\n",
        "```\r\n",
        "returns\r\n",
        "```\r\n",
        "array([ 3.,  3.,  3.,  3.,  3.,  3.,  3.,  3.,  3.,  3.])\r\n",
        "```"
      ]
    },
    {
      "cell_type": "code",
      "metadata": {
        "colab": {
          "base_uri": "https://localhost:8080/"
        },
        "id": "IoZvw1bC5Ixd",
        "outputId": "3c6e227f-3b2a-4a75-a74e-c2e67509f359"
      },
      "source": [
        "%%file np_ns_exercise.py\r\n",
        "import numpy as np\r\n",
        "\r\n",
        "# Include your code in the next line\r\n",
        "def np_ns(l,n):\r\n",
        "    return np.full([l],n, dtype = float)\r\n"
      ],
      "execution_count": 14,
      "outputs": [
        {
          "output_type": "stream",
          "text": [
            "Writing np_ns_exercise.py\n"
          ],
          "name": "stdout"
        }
      ]
    },
    {
      "cell_type": "markdown",
      "metadata": {
        "id": "koLpl-23Nqvj"
      },
      "source": [
        "**Create a function np_ints that receives parameters low and high and returns a numpy array of the integers from low to high. Example:**\r\n",
        "```\r\n",
        "np_inst(1, 5)\r\n",
        "```\r\n",
        "returns\r\n",
        "```\r\n",
        "array([ 1,  2,  3,  4,  5])\r\n",
        "```"
      ]
    },
    {
      "cell_type": "code",
      "metadata": {
        "colab": {
          "base_uri": "https://localhost:8080/"
        },
        "id": "8Kz4jntSQRBh",
        "outputId": "a8170eee-cc8a-4240-b9e5-c8ac373b320c"
      },
      "source": [
        "%%file np_ints_exercises.py\r\n",
        "import numpy as np\r\n",
        "\r\n",
        "# Include your code in the next line\r\n",
        "def np_ints(l,h):\r\n",
        "    return np.arange(l,h+1,1)"
      ],
      "execution_count": 15,
      "outputs": [
        {
          "output_type": "stream",
          "text": [
            "Writing np_ints_exercises.py\n"
          ],
          "name": "stdout"
        }
      ]
    },
    {
      "cell_type": "markdown",
      "metadata": {
        "id": "We31wNFcAfSQ"
      },
      "source": [
        "**Create a function np_even_ints that receives parameters low and high and returns a numpy array of the even integers from low to high. Example:**\r\n",
        "```\r\n",
        "np_even_inst(1, 5)\r\n",
        "```\r\n",
        "returns\r\n",
        "```\r\n",
        "array([ 2,  4])\r\n",
        "```"
      ]
    },
    {
      "cell_type": "code",
      "metadata": {
        "id": "UrYpsXkfAfSQ",
        "colab": {
          "base_uri": "https://localhost:8080/"
        },
        "outputId": "3141bdfc-74f9-43e7-8202-735263cc31a3"
      },
      "source": [
        "%%file np_even_ints_exercises.py\r\n",
        "import numpy as np\r\n",
        "\r\n",
        "# Include your code in the next line\r\n",
        "def np_even_ints(l,h):\r\n",
        "    res = np.arange(l,h+1,1)\r\n",
        "    return res[res%2 == 0]"
      ],
      "execution_count": 16,
      "outputs": [
        {
          "output_type": "stream",
          "text": [
            "Writing np_even_ints_exercises.py\n"
          ],
          "name": "stdout"
        }
      ]
    },
    {
      "cell_type": "markdown",
      "metadata": {
        "id": "oeSMORGKAfSR"
      },
      "source": [
        "**Create a function np_matrix_ints that receives parameters row_count,  col_count, and start and returns a numpy matrix as follows:**\r\n",
        "```\r\n",
        "np_matrix_ints(2, 3, 4)\r\n",
        "```\r\n",
        "returns\r\n",
        "```\r\n",
        "array([[4, 5, 6],\r\n",
        "       [7, 8, 9]])\r\n",
        "```\r\n"
      ]
    },
    {
      "cell_type": "code",
      "metadata": {
        "id": "U0JNp3VfsL0A",
        "colab": {
          "base_uri": "https://localhost:8080/"
        },
        "outputId": "e779b1ab-e1d2-4668-8245-ff12e4661245"
      },
      "source": [
        "%%file np_matrix_ints_exercises.py\r\n",
        "import numpy as np\r\n",
        "\r\n",
        "# Include your code in the next line\r\n",
        "def np_matrix_ints(row_count,col_count,start):\r\n",
        "    res = np.arange(start,start + row_count*col_count,1)\r\n",
        "    return res.reshape(row_count,col_count)"
      ],
      "execution_count": 17,
      "outputs": [
        {
          "output_type": "stream",
          "text": [
            "Writing np_matrix_ints_exercises.py\n"
          ],
          "name": "stdout"
        }
      ]
    },
    {
      "cell_type": "markdown",
      "metadata": {
        "id": "0WquIrHssyx4"
      },
      "source": [
        "**Create a function np_right_bottom_matrix that receives parameters matrix, right, and top and returns the bottom-right numpy matrix as follows:**\r\n",
        "```\r\n",
        "matrix = np.array([[ 1,  2,  3,  4,  5], [ 6,  7,  8,  9, 10], [11, 12, 13, 14, 15], [16, 17, 18, 19, 20], [21, 22, 23, 24, 25]])\r\n",
        "np_right_bottom_matrix(matrix, 2, 1)\r\n",
        "```\r\n",
        "returns\r\n",
        "```\r\n",
        "array([[12, 13, 14, 15],\r\n",
        "       [17, 18, 19, 20],\r\n",
        "       [22, 23, 24, 25]])\r\n",
        "```\r\n"
      ]
    },
    {
      "cell_type": "code",
      "metadata": {
        "colab": {
          "base_uri": "https://localhost:8080/"
        },
        "id": "oU__DIpDvbiQ",
        "outputId": "231577f6-a30b-417f-b914-204df879d926"
      },
      "source": [
        "%%file np_right_bottom_matrix_exercises.py\r\n",
        "import numpy as np\r\n",
        "\r\n",
        "# Include your code in the next line\r\n",
        "def np_right_bottom_matrix(matrix,right,top):\r\n",
        "    return matrix[right:,top:]"
      ],
      "execution_count": 18,
      "outputs": [
        {
          "output_type": "stream",
          "text": [
            "Writing np_right_bottom_matrix_exercises.py\n"
          ],
          "name": "stdout"
        }
      ]
    },
    {
      "cell_type": "markdown",
      "metadata": {
        "id": "8x-zyl26xXgC"
      },
      "source": [
        "# Tests"
      ]
    },
    {
      "cell_type": "code",
      "metadata": {
        "colab": {
          "base_uri": "https://localhost:8080/"
        },
        "id": "ko2I-YhiZ5Iw",
        "outputId": "9098a863-7ec5-49fd-a0e0-76bb4094ef34"
      },
      "source": [
        "%%file test_exercises.py\r\n",
        "import numpy as np\r\n",
        "\r\n",
        "from np_right_bottom_matrix_exercises import *\r\n",
        "def test_np_right_bottom_matrix():\r\n",
        "  matrix = np.arange(1,26).reshape(5,5)\r\n",
        "  assert (np_right_bottom_matrix(matrix, 2, 1) == np.array([[12, 13, 14, 15],[17, 18, 19, 20],[22, 23, 24, 25]])).all()\r\n",
        "\r\n",
        "  assert (np_right_bottom_matrix(matrix, 0, 3) == np.array([[ 4,  5],[ 9, 10],[14, 15],[19, 20],[24, 25]])).all()\r\n",
        "\r\n",
        "from np_matrix_ints_exercises import *\r\n",
        "def test_np_matrix_ints():\r\n",
        "  m = np_matrix_ints(3, 3, 0)\r\n",
        "  assert (m == np.arange(0,9).reshape(3,3)).all() and m.shape == (3,3)\r\n",
        "\r\n",
        "  m = np_matrix_ints(3, 5, 20)\r\n",
        "  assert (m == np.arange(20,35).reshape(3,5)).all() and m.shape == (3,5)\r\n",
        "\r\n",
        "  m = np_matrix_ints(1, 5, 5)\r\n",
        "  assert (m == np.arange(5,10).reshape(1,5)).all() and m.shape == (1,5)\r\n",
        "\r\n",
        "  m = np_matrix_ints(7, 1, 91)\r\n",
        "  assert (m == np.arange(91,98).reshape(7,1)).all() and m.shape == (7,1) \r\n",
        "\r\n",
        "\r\n",
        "from np_even_ints_exercises import *\r\n",
        "def test_np_even_ints():\r\n",
        "  arr = np_even_ints(4, 7)\r\n",
        "  assert (arr==np.array([ 4, 6])).all() and arr.shape[0]==2\r\n",
        "\r\n",
        "  arr = np_even_ints(99, 111)\r\n",
        "  assert (arr==np.array([ 100,  102,  104,  106, 108, 110])).all() and arr.shape[0]==6\r\n",
        "\r\n",
        "\r\n",
        "from np_ints_exercises import *\r\n",
        "def test_np_ints():\r\n",
        "  arr = np_ints(4, 7)\r\n",
        "  assert (arr==np.array([ 4, 5, 6, 7])).all() and arr.shape[0]==4\r\n",
        "\r\n",
        "  arr = np_ints(100, 111)\r\n",
        "  assert (arr==np.array([ 100,  101,  102,  103,  104,  105,  106,  107,  108,  109, 110, 111])).all() and arr.shape[0]==12\r\n",
        "\r\n",
        "\r\n",
        "from np_ns_exercise import *\r\n",
        "def test_np_ns():\r\n",
        "  arr = np_ns(1, 4)\r\n",
        "  assert (arr==np.array([ 4.])).all() and arr.shape[0]==1\r\n",
        "\r\n",
        "  arr = np_ns(12, 1)\r\n",
        "  assert (arr==np.array([ 1.,  1.,  1.,  1.,  1.,  1.,  1.,  1.,  1.,  1., 1., 1.])).all() and arr.shape[0]==12\r\n",
        "\r\n",
        "\r\n",
        "from np_ones_exercise import *\r\n",
        "def test_np_ones():\r\n",
        "  arr = np_ones(1)\r\n",
        "  assert (arr==np.array([ 1.])).all() and arr.shape[0]==1\r\n",
        "\r\n",
        "  arr = np_ones(10)\r\n",
        "  assert (arr==np.array([ 1.,  1.,  1.,  1.,  1.,  1.,  1.,  1.,  1.,  1.])).all() and arr.shape[0]==10\r\n",
        "\r\n",
        "\r\n",
        "from np_zeros_exercise import *\r\n",
        "def test_np_zeros():\r\n",
        "  arr = np_zeros(1)\r\n",
        "  assert (arr==np.array([ 0.])).all() and arr.shape[0]==1\r\n",
        "\r\n",
        "  arr = np_zeros(10)\r\n",
        "  assert (arr==np.array([ 0.,  0.,  0.,  0.,  0.,  0.,  0.,  0.,  0.,  0.])).all() and arr.shape[0]==10\r\n",
        "\r\n",
        "\r\n",
        "from remove_words_exercise import *\r\n",
        "def test_remove_words():\r\n",
        "  assert remove_words(['soup','dog','salad','cat','great'])==['dog', 'cat', 'great']\r\n",
        "  assert remove_words(['soyd','salad','book','salt'])==['book']\r\n",
        "\r\n",
        "\r\n",
        "from count_word_occurrence_exercise import *\r\n",
        "def test_count_word_occurrence():\r\n",
        "  assert count_word_occurrence('compute', 'This computer computes faster')==0\r\n",
        "  assert count_word_occurrence('computer', 'This computer is faster than that computer')==2\r\n",
        "\r\n",
        "\r\n",
        "from contains_word_exercise import *\r\n",
        "def test_contains_word():\r\n",
        "  assert contains_word('compute', 'This is my computer') == False\r\n",
        "  assert contains_word('This', 'This is my computer') == True\r\n",
        "\r\n",
        "\r\n",
        "from get_domain_exercise import *\r\n",
        "def test_get_domain():\r\n",
        "  assert get_domain('migue@tec.mx') == 'tec.mx'\r\n",
        "  assert get_domain('miguel.medina@somedomain.com.mx') == 'somedomain.com.mx'\r\n",
        "\r\n",
        "\r\n",
        "from get_value_nested_dict_exercise import *\r\n",
        "def test_get_value_nested_dict():\r\n",
        "  assert get_value_nested_dict() == 'Network'\r\n",
        "\r\n",
        "\r\n",
        "from get_value_nested_list_exercise import *\r\n",
        "def test_get_value_nested_list():\r\n",
        "  assert get_value_nested_list() == 'hello'\r\n",
        "\r\n",
        "\r\n",
        "from format_Earth_diameter_exercise import *\r\n",
        "def test_format_Earth_diameter():\r\n",
        "  assert format_Earth_diameter() == 'The diameter of Earth is 12742 kilometers.'\r\n",
        "\r\n",
        "\r\n",
        "from split_string_exercise import *\r\n",
        "def test_split_string():\r\n",
        "  assert split_string() == ['Hi', 'there', 'Migue!']\r\n",
        "\r\n",
        "\r\n",
        "from pow_exercise import *\r\n",
        "def test_pow_5_7():\r\n",
        "  assert pow_5_7() == 78125\r\n"
      ],
      "execution_count": 19,
      "outputs": [
        {
          "output_type": "stream",
          "text": [
            "Writing test_exercises.py\n"
          ],
          "name": "stdout"
        }
      ]
    },
    {
      "cell_type": "code",
      "metadata": {
        "colab": {
          "base_uri": "https://localhost:8080/"
        },
        "id": "HoOXdbAEYOvd",
        "outputId": "c93747ec-3581-425b-99f6-2b5775b0cfc8"
      },
      "source": [
        "!python -m pytest test_exercises.py "
      ],
      "execution_count": 24,
      "outputs": [
        {
          "output_type": "stream",
          "text": [
            "\u001b[1m============================= test session starts ==============================\u001b[0m\n",
            "platform linux -- Python 3.6.9, pytest-3.6.4, py-1.10.0, pluggy-0.7.1\n",
            "rootdir: /content, inifile:\n",
            "plugins: typeguard-2.7.1\n",
            "\u001b[1m\rcollecting 0 items                                                             \u001b[0m\u001b[1m\rcollecting 16 items                                                            \u001b[0m\u001b[1m\rcollected 16 items                                                             \u001b[0m\n",
            "\n",
            "test_exercises.py ................\u001b[36m                                       [100%]\u001b[0m\n",
            "\n",
            "\u001b[32m\u001b[1m========================== 16 passed in 0.16 seconds ===========================\u001b[0m\n"
          ],
          "name": "stdout"
        }
      ]
    },
    {
      "cell_type": "code",
      "metadata": {
        "id": "1TV7ubmeMhTK"
      },
      "source": [
        ""
      ],
      "execution_count": null,
      "outputs": []
    }
  ]
}